{
 "cells": [
  {
   "cell_type": "code",
   "execution_count": 17,
   "id": "8f888a04",
   "metadata": {},
   "outputs": [
    {
     "name": "stdout",
     "output_type": "stream",
     "text": [
      "       col1      col2      col3\n",
      "0 -0.307621  1.242418  0.285453\n",
      "1  1.177592 -0.557527 -0.547413\n",
      "2  1.086994 -0.299518  0.098765\n",
      "3  0.147542  0.369831  0.622934\n",
      "4 -0.034169  0.317885 -1.101696\n",
      "printing the results of pipe\n",
      "       col1      col2      col3\n",
      "0  1.692379  3.242418  2.285453\n",
      "1  3.177592  1.442473  1.452587\n",
      "2  3.086994  1.700482  2.098765\n",
      "3  2.147542  2.369831  2.622934\n",
      "4  1.965831  2.317885  0.898304\n"
     ]
    }
   ],
   "source": [
    "import pandas as pd\n",
    "import numpy as np\n",
    "\n",
    "def adder(ele1,ele2):\n",
    "   return ele1+ele2\n",
    "\n",
    "df = pd.DataFrame(np.random.randn(5,3),columns=['col1','col2','col3'])\n",
    "print(df)\n",
    "print(\"printing the results of pipe\")\n",
    "print(df.pipe(adder,2))"
   ]
  },
  {
   "cell_type": "code",
   "execution_count": 16,
   "id": "ecbba038",
   "metadata": {},
   "outputs": [
    {
     "name": "stdout",
     "output_type": "stream",
     "text": [
      "       col1      col2      col3\n",
      "0 -0.783850 -1.543333  0.243985\n",
      "1 -0.530284  0.112412 -1.659759\n",
      "2  0.655259  0.529366 -0.132777\n",
      "3  0.625072 -0.168794  1.633772\n",
      "4  1.824742 -0.093817 -0.464927\n",
      "col1    0.358188\n",
      "col2   -0.232833\n",
      "col3   -0.075941\n",
      "dtype: float64\n"
     ]
    }
   ],
   "source": [
    "import pandas as pd\n",
    "import numpy as np\n",
    "\n",
    "def adder(ele1,ele2):\n",
    "   return ele1+ele2\n",
    "\n",
    "df = pd.DataFrame(np.random.randn(5,3),columns=['col1','col2','col3'])\n",
    "print(df)\n",
    "\n",
    "print (df.apply(np.mean))"
   ]
  },
  {
   "cell_type": "code",
   "execution_count": 3,
   "id": "a21523de",
   "metadata": {},
   "outputs": [
    {
     "name": "stdout",
     "output_type": "stream",
     "text": [
      "       col1      col2      col3\n",
      "0 -1.905187 -0.550733  2.033432\n",
      "1  2.414666  0.716137  0.463270\n",
      "2  0.300466  0.049559 -0.969920\n",
      "3 -1.781007 -1.137502 -0.249867\n",
      "4  0.246246 -0.409801  0.556337\n",
      "0   -0.140829\n",
      "1    1.198024\n",
      "2   -0.206631\n",
      "3   -1.056125\n",
      "4    0.130927\n",
      "dtype: float64\n"
     ]
    }
   ],
   "source": [
    "import pandas as pd\n",
    "import numpy as np\n",
    "\n",
    "df = pd.DataFrame(np.random.randn(5,3),columns=['col1','col2','col3'])\n",
    "print(df)\n",
    "\n",
    "print (df.apply(np.mean,axis=1))"
   ]
  },
  {
   "cell_type": "code",
   "execution_count": 4,
   "id": "767c7e49",
   "metadata": {},
   "outputs": [
    {
     "name": "stdout",
     "output_type": "stream",
     "text": [
      "       col1      col2      col3\n",
      "0  0.719922  1.923748 -1.559450\n",
      "1 -0.986451 -0.556431  1.347362\n",
      "2 -0.819236 -0.776870  2.196183\n",
      "3  0.668607  1.706217 -0.800622\n",
      "4  3.160867 -0.002516 -0.238663\n",
      "0     71.992215\n",
      "1    -98.645117\n",
      "2    -81.923593\n",
      "3     66.860715\n",
      "4    316.086698\n",
      "Name: col1, dtype: float64\n"
     ]
    }
   ],
   "source": [
    "import pandas as pd\n",
    "import numpy as np\n",
    "df = pd.DataFrame(np.random.randn(5,3),columns=['col1','col2','col3'])\n",
    "print(df)\n",
    "\n",
    "print(df['col1'].map(lambda x:x*100))\n"
   ]
  },
  {
   "cell_type": "code",
   "execution_count": 5,
   "id": "a4b3ee29",
   "metadata": {},
   "outputs": [
    {
     "name": "stdout",
     "output_type": "stream",
     "text": [
      "   id  name  age  income\n",
      "0   1   abc   11    9999\n",
      "1   2  defg   22    8888\n",
      "2   3   ghs   33    7777\n",
      "3   4  eeee   44    6666\n",
      "4   5  wwww   55    5555\n"
     ]
    }
   ],
   "source": [
    "df=pd.DataFrame({'id':[1,2,3,4,5],'name':['abc','defg','ghs','eeee','wwww'],'age':[11,22,33,44,55], 'income':[9999,8888,7777,6666,5555]})\n",
    "print(df)"
   ]
  },
  {
   "cell_type": "code",
   "execution_count": 8,
   "id": "303c4244",
   "metadata": {},
   "outputs": [
    {
     "name": "stdout",
     "output_type": "stream",
     "text": [
      "   id  name  age  income\n",
      "0   1   abc   20    9999\n",
      "1   2  defg   31    8888\n",
      "2   3   ghs   42    7777\n",
      "3   4  eeee   53    6666\n",
      "4   5  wwww   64    5555\n"
     ]
    }
   ],
   "source": [
    "df['age']=df.apply(lambda x: x['age']+3, axis=1)\n",
    "print(df)"
   ]
  },
  {
   "cell_type": "code",
   "execution_count": 9,
   "id": "ddeb005c",
   "metadata": {},
   "outputs": [
    {
     "data": {
      "text/plain": [
       "[20, 31, 42, 53, 64]"
      ]
     },
     "execution_count": 9,
     "metadata": {},
     "output_type": "execute_result"
    }
   ],
   "source": [
    "list(filter(lambda x:x>18, df['age']))"
   ]
  },
  {
   "cell_type": "code",
   "execution_count": 11,
   "id": "1bf9e777",
   "metadata": {},
   "outputs": [
    {
     "name": "stdout",
     "output_type": "stream",
     "text": [
      "   id  name  age  income\n",
      "0   1   abc   20   11998\n",
      "1   2  defg   31   10665\n",
      "2   3   ghs   42    9332\n",
      "3   4  eeee   53    7999\n",
      "4   5  wwww   64    6666\n"
     ]
    }
   ],
   "source": [
    "df['income']=list(map(lambda x: int(x+x*0.2), df['income']))\n",
    "print(df)"
   ]
  },
  {
   "cell_type": "code",
   "execution_count": 12,
   "id": "d7e27253",
   "metadata": {},
   "outputs": [
    {
     "data": {
      "text/plain": [
       "46660"
      ]
     },
     "execution_count": 12,
     "metadata": {},
     "output_type": "execute_result"
    }
   ],
   "source": [
    "import functools\n",
    "\n",
    "functools.reduce(lambda a,b: a+b, df['income'])"
   ]
  },
  {
   "cell_type": "code",
   "execution_count": 13,
   "id": "5c15553b",
   "metadata": {},
   "outputs": [],
   "source": [
    "df['category']=df['age'].apply(lambda x: 'Adult' if x>=18 else 'Child')"
   ]
  },
  {
   "cell_type": "code",
   "execution_count": 14,
   "id": "782f0bf9",
   "metadata": {},
   "outputs": [
    {
     "name": "stdout",
     "output_type": "stream",
     "text": [
      "   id  name  age  income category\n",
      "0   1   abc   20   11998    Adult\n",
      "1   2  defg   31   10665    Adult\n",
      "2   3   ghs   42    9332    Adult\n",
      "3   4  eeee   53    7999    Adult\n",
      "4   5  wwww   64    6666    Adult\n"
     ]
    }
   ],
   "source": [
    "print(df)"
   ]
  },
  {
   "cell_type": "code",
   "execution_count": null,
   "id": "8752d112",
   "metadata": {},
   "outputs": [],
   "source": []
  }
 ],
 "metadata": {
  "kernelspec": {
   "display_name": "Python 3",
   "language": "python",
   "name": "python3"
  },
  "language_info": {
   "codemirror_mode": {
    "name": "ipython",
    "version": 3
   },
   "file_extension": ".py",
   "mimetype": "text/x-python",
   "name": "python",
   "nbconvert_exporter": "python",
   "pygments_lexer": "ipython3",
   "version": "3.8.8"
  }
 },
 "nbformat": 4,
 "nbformat_minor": 5
}
