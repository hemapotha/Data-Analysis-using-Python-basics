{
 "cells": [
  {
   "cell_type": "code",
   "execution_count": 1,
   "id": "2094d2d9",
   "metadata": {},
   "outputs": [
    {
     "name": "stdout",
     "output_type": "stream",
     "text": [
      "[1 2 3 4 5 6]\n"
     ]
    }
   ],
   "source": [
    "import numpy as np\n",
    "\n",
    "arr1 = np.array([1, 2, 3])\n",
    "\n",
    "arr2 = np.array([4, 5, 6])\n",
    "\n",
    "arr = np.concatenate((arr1, arr2))\n",
    "\n",
    "print(arr) "
   ]
  },
  {
   "cell_type": "code",
   "execution_count": 2,
   "id": "789d5f78",
   "metadata": {},
   "outputs": [
    {
     "name": "stdout",
     "output_type": "stream",
     "text": [
      "arr1= [[1 2]\n",
      " [3 4]]\n",
      "arr2= [[5 6]\n",
      " [7 8]]\n",
      "after concatenation =\n",
      "[[1 2 5 6]\n",
      " [3 4 7 8]]\n"
     ]
    }
   ],
   "source": [
    "import numpy as np\n",
    "\n",
    "arr1 = np.array([[1, 2], [3, 4]])\n",
    "\n",
    "print(\"arr1=\", arr1) \n",
    "\n",
    "arr2 = np.array([[5, 6], [7, 8]])\n",
    "\n",
    "print(\"arr2=\", arr2) \n",
    "\n",
    "print(\"after concatenation =\")\n",
    "\n",
    "arr = np.concatenate((arr1, arr2), axis=1) #0=row, 1=col\n",
    "\n",
    "print(arr) "
   ]
  },
  {
   "cell_type": "code",
   "execution_count": 3,
   "id": "4f4d4d3a",
   "metadata": {},
   "outputs": [
    {
     "name": "stdout",
     "output_type": "stream",
     "text": [
      "arr1= [[1 2]\n",
      " [3 4]]\n",
      "arr2= [[5 6]\n",
      " [7 8]]\n",
      "after concatenation =\n",
      "[[1 2]\n",
      " [3 4]\n",
      " [5 6]\n",
      " [7 8]]\n"
     ]
    }
   ],
   "source": [
    "import numpy as np\n",
    "\n",
    "arr1 = np.array([[1, 2], [3, 4]])\n",
    "\n",
    "print(\"arr1=\", arr1) \n",
    "\n",
    "arr2 = np.array([[5, 6], [7, 8]])\n",
    "\n",
    "print(\"arr2=\", arr2) \n",
    "\n",
    "print(\"after concatenation =\")\n",
    "arr = np.concatenate((arr1, arr2), axis=0) #0=row, 1=col\n",
    "\n",
    "print(arr) "
   ]
  },
  {
   "cell_type": "code",
   "execution_count": 4,
   "id": "729b1a26",
   "metadata": {},
   "outputs": [
    {
     "name": "stdout",
     "output_type": "stream",
     "text": [
      "[1 2 3 4 5 6]\n"
     ]
    }
   ],
   "source": [
    "import numpy as np\n",
    "\n",
    "arr1 = np.array([1, 2, 3])\n",
    "\n",
    "arr2 = np.array([4, 5, 6])\n",
    "\n",
    "arr = np.hstack((arr1, arr2))\n",
    "\n",
    "print(arr) "
   ]
  },
  {
   "cell_type": "code",
   "execution_count": 5,
   "id": "67c1675c",
   "metadata": {},
   "outputs": [
    {
     "name": "stdout",
     "output_type": "stream",
     "text": [
      "[[1 2 3]\n",
      " [4 5 6]]\n"
     ]
    }
   ],
   "source": [
    "import numpy as np\n",
    "\n",
    "arr1 = np.array([1, 2, 3])\n",
    "\n",
    "arr2 = np.array([4, 5, 6])\n",
    "\n",
    "arr = np.vstack((arr1, arr2))\n",
    "\n",
    "print(arr) "
   ]
  },
  {
   "cell_type": "code",
   "execution_count": 6,
   "id": "fc9acec5",
   "metadata": {},
   "outputs": [
    {
     "name": "stdout",
     "output_type": "stream",
     "text": [
      "hstack = [1 2 3 4 5 6]\n",
      "vstack = [[1 2 3]\n",
      " [4 5 6]]\n",
      "hstack = [[1 4]\n",
      " [2 5]\n",
      " [3 6]]\n",
      "vstack = [[1]\n",
      " [2]\n",
      " [3]\n",
      " [4]\n",
      " [5]\n",
      " [6]]\n"
     ]
    }
   ],
   "source": [
    "a = np.array([1,2,3])\n",
    "\n",
    "b = np.array([4,5,6])\n",
    "\n",
    "print(\"hstack =\", np.hstack((a,b)))\n",
    "\n",
    "print(\"vstack =\", np.vstack((a,b)))\n",
    "\n",
    "a = np.array([[1],[2],[3]])\n",
    "\n",
    "b = np.array([[4],[5],[6]])\n",
    "\n",
    "print(\"hstack =\", np.hstack((a,b)))\n",
    "\n",
    "print(\"vstack =\", np.vstack((a,b)))\n"
   ]
  },
  {
   "cell_type": "code",
   "execution_count": 7,
   "id": "4d12ca98",
   "metadata": {},
   "outputs": [
    {
     "name": "stdout",
     "output_type": "stream",
     "text": [
      "\n",
      "hstack =\n",
      " [[   1    2    3    7    8    9]\n",
      " [  11   22   33   77   88   99]\n",
      " [ 111  222  333  777  888  999]\n",
      " [1111 2222 3333 7777 8888 9999]]\n",
      "\n",
      "======next print======\n",
      "\n",
      "vstack =\n",
      " [[   1    2    3]\n",
      " [  11   22   33]\n",
      " [ 111  222  333]\n",
      " [1111 2222 3333]\n",
      " [   7    8    9]\n",
      " [  77   88   99]\n",
      " [ 777  888  999]\n",
      " [7777 8888 9999]]\n",
      "\n",
      "======next print======\n",
      "\n",
      " concatenate at axis 0=\n",
      " [[   1    2    3]\n",
      " [  11   22   33]\n",
      " [ 111  222  333]\n",
      " [1111 2222 3333]\n",
      " [   7    8    9]\n",
      " [  77   88   99]\n",
      " [ 777  888  999]\n",
      " [7777 8888 9999]]\n",
      "\n",
      "======next print======\n",
      "\n",
      " concatenate at axis 1=\n",
      " [[   1    2    3    7    8    9]\n",
      " [  11   22   33   77   88   99]\n",
      " [ 111  222  333  777  888  999]\n",
      " [1111 2222 3333 7777 8888 9999]]\n"
     ]
    }
   ],
   "source": [
    "a = np.array([[1,2,3],[11,22,33],[111,222,333],[1111,2222,3333]])\n",
    "\n",
    "b = np.array([[7,8,9],[77,88,99],[777,888,999],[7777,8888,9999]])\n",
    "\n",
    "print(\"\\nhstack =\\n\", np.hstack((a,b)))\n",
    "\n",
    "print(\"\\n======next print======\")\n",
    "\n",
    "print(\"\\nvstack =\\n\", np.vstack((a,b)))\n",
    "\n",
    "arr = np.concatenate((a, b), axis=0)\n",
    "\n",
    "print(\"\\n======next print======\")\n",
    "\n",
    "print(\"\\n concatenate at axis 0=\\n\",arr)\n",
    "\n",
    "arr1 = np.concatenate((a, b), axis=1)\n",
    "\n",
    "print(\"\\n======next print======\")\n",
    "\n",
    "print(\"\\n concatenate at axis 1=\\n\",arr1)"
   ]
  },
  {
   "cell_type": "code",
   "execution_count": 8,
   "id": "efb396db",
   "metadata": {},
   "outputs": [
    {
     "name": "stdout",
     "output_type": "stream",
     "text": [
      "[[1 2 3]\n",
      " [4 5 6]]\n"
     ]
    }
   ],
   "source": [
    "a= np.array([[1, 2, 3], [4, 5, 6]])\n",
    "print(a)"
   ]
  },
  {
   "cell_type": "code",
   "execution_count": 9,
   "id": "cd4561c1",
   "metadata": {},
   "outputs": [
    {
     "name": "stdout",
     "output_type": "stream",
     "text": [
      "[7 8 9]\n"
     ]
    }
   ],
   "source": [
    "b = np.array([7,8,9])\n",
    "print(b)"
   ]
  },
  {
   "cell_type": "code",
   "execution_count": 10,
   "id": "8acef6f7",
   "metadata": {},
   "outputs": [
    {
     "name": "stdout",
     "output_type": "stream",
     "text": [
      "[[7 8 9]]\n"
     ]
    }
   ],
   "source": [
    "c = np.array([[7,8,9]])\n",
    "print(c)"
   ]
  },
  {
   "cell_type": "code",
   "execution_count": 11,
   "id": "222a671a",
   "metadata": {},
   "outputs": [
    {
     "ename": "ValueError",
     "evalue": "all the input arrays must have same number of dimensions, but the array at index 0 has 2 dimension(s) and the array at index 1 has 1 dimension(s)",
     "output_type": "error",
     "traceback": [
      "\u001b[1;31m---------------------------------------------------------------------------\u001b[0m",
      "\u001b[1;31mValueError\u001b[0m                                Traceback (most recent call last)",
      "\u001b[1;32m<ipython-input-11-b9eb344211ed>\u001b[0m in \u001b[0;36m<module>\u001b[1;34m\u001b[0m\n\u001b[1;32m----> 1\u001b[1;33m \u001b[0mnp\u001b[0m\u001b[1;33m.\u001b[0m\u001b[0mappend\u001b[0m\u001b[1;33m(\u001b[0m\u001b[0ma\u001b[0m\u001b[1;33m,\u001b[0m\u001b[0mb\u001b[0m\u001b[1;33m,\u001b[0m \u001b[0maxis\u001b[0m\u001b[1;33m=\u001b[0m\u001b[1;36m0\u001b[0m\u001b[1;33m)\u001b[0m\u001b[1;33m\u001b[0m\u001b[1;33m\u001b[0m\u001b[0m\n\u001b[0m",
      "\u001b[1;32m<__array_function__ internals>\u001b[0m in \u001b[0;36mappend\u001b[1;34m(*args, **kwargs)\u001b[0m\n",
      "\u001b[1;32m~\\anaconda3\\lib\\site-packages\\numpy\\lib\\function_base.py\u001b[0m in \u001b[0;36mappend\u001b[1;34m(arr, values, axis)\u001b[0m\n\u001b[0;32m   4743\u001b[0m         \u001b[0mvalues\u001b[0m \u001b[1;33m=\u001b[0m \u001b[0mravel\u001b[0m\u001b[1;33m(\u001b[0m\u001b[0mvalues\u001b[0m\u001b[1;33m)\u001b[0m\u001b[1;33m\u001b[0m\u001b[1;33m\u001b[0m\u001b[0m\n\u001b[0;32m   4744\u001b[0m         \u001b[0maxis\u001b[0m \u001b[1;33m=\u001b[0m \u001b[0marr\u001b[0m\u001b[1;33m.\u001b[0m\u001b[0mndim\u001b[0m\u001b[1;33m-\u001b[0m\u001b[1;36m1\u001b[0m\u001b[1;33m\u001b[0m\u001b[1;33m\u001b[0m\u001b[0m\n\u001b[1;32m-> 4745\u001b[1;33m     \u001b[1;32mreturn\u001b[0m \u001b[0mconcatenate\u001b[0m\u001b[1;33m(\u001b[0m\u001b[1;33m(\u001b[0m\u001b[0marr\u001b[0m\u001b[1;33m,\u001b[0m \u001b[0mvalues\u001b[0m\u001b[1;33m)\u001b[0m\u001b[1;33m,\u001b[0m \u001b[0maxis\u001b[0m\u001b[1;33m=\u001b[0m\u001b[0maxis\u001b[0m\u001b[1;33m)\u001b[0m\u001b[1;33m\u001b[0m\u001b[1;33m\u001b[0m\u001b[0m\n\u001b[0m\u001b[0;32m   4746\u001b[0m \u001b[1;33m\u001b[0m\u001b[0m\n\u001b[0;32m   4747\u001b[0m \u001b[1;33m\u001b[0m\u001b[0m\n",
      "\u001b[1;32m<__array_function__ internals>\u001b[0m in \u001b[0;36mconcatenate\u001b[1;34m(*args, **kwargs)\u001b[0m\n",
      "\u001b[1;31mValueError\u001b[0m: all the input arrays must have same number of dimensions, but the array at index 0 has 2 dimension(s) and the array at index 1 has 1 dimension(s)"
     ]
    }
   ],
   "source": [
    "np.append(a,b, axis=0)"
   ]
  },
  {
   "cell_type": "code",
   "execution_count": 12,
   "id": "c9dd0b6f",
   "metadata": {},
   "outputs": [
    {
     "data": {
      "text/plain": [
       "array([[1, 2, 3],\n",
       "       [4, 5, 6],\n",
       "       [7, 8, 9]])"
      ]
     },
     "execution_count": 12,
     "metadata": {},
     "output_type": "execute_result"
    }
   ],
   "source": [
    "np.append(a,c, axis=0)"
   ]
  },
  {
   "cell_type": "code",
   "execution_count": 13,
   "id": "d865c772",
   "metadata": {},
   "outputs": [
    {
     "data": {
      "text/plain": [
       "array([1, 2, 3, 5, 6])"
      ]
     },
     "execution_count": 13,
     "metadata": {},
     "output_type": "execute_result"
    }
   ],
   "source": [
    "import numpy as np\n",
    "a = np.array([1,2,3])\n",
    "b = np.array([5,6])\n",
    "np.concatenate((a,b))"
   ]
  },
  {
   "cell_type": "code",
   "execution_count": 14,
   "id": "fde6cf50",
   "metadata": {},
   "outputs": [
    {
     "data": {
      "text/plain": [
       "array([1, 2, 3, 5, 6])"
      ]
     },
     "execution_count": 14,
     "metadata": {},
     "output_type": "execute_result"
    }
   ],
   "source": [
    "np.r_[a,b]"
   ]
  },
  {
   "cell_type": "code",
   "execution_count": 15,
   "id": "2c6cba28",
   "metadata": {},
   "outputs": [
    {
     "data": {
      "text/plain": [
       "array([1, 2, 3, 5, 6, 7])"
      ]
     },
     "execution_count": 15,
     "metadata": {},
     "output_type": "execute_result"
    }
   ],
   "source": [
    "a = np.array([1, 2,3])\n",
    "b = np.array([5, 6,7])\n",
    "np.stack([a,b]).reshape(-1)"
   ]
  },
  {
   "cell_type": "code",
   "execution_count": 16,
   "id": "31d978a4",
   "metadata": {},
   "outputs": [
    {
     "data": {
      "text/plain": [
       "array([[1, 2, 3],\n",
       "       [5, 6, 7]])"
      ]
     },
     "execution_count": 16,
     "metadata": {},
     "output_type": "execute_result"
    }
   ],
   "source": [
    "a = np.array([1, 2,3])\n",
    "b = np.array([5, 6,7])\n",
    "np.stack([a,b])"
   ]
  },
  {
   "cell_type": "code",
   "execution_count": 17,
   "id": "2a92c0ef",
   "metadata": {},
   "outputs": [
    {
     "name": "stdout",
     "output_type": "stream",
     "text": [
      "\n"
     ]
    }
   ],
   "source": [
    "print()"
   ]
  },
  {
   "cell_type": "code",
   "execution_count": 18,
   "id": "af55d355",
   "metadata": {},
   "outputs": [
    {
     "name": "stdout",
     "output_type": "stream",
     "text": [
      "\n",
      "hstack =\n",
      " [[   1    2    3    7    8    9]\n",
      " [  11   22   33   77   88   99]\n",
      " [ 111  222  333  777  888  999]\n",
      " [1111 2222 3333 7777 8888 9999]]\n",
      "\n",
      "======next print======\n",
      "\n",
      "vstack =\n",
      " [[   1    2    3]\n",
      " [  11   22   33]\n",
      " [ 111  222  333]\n",
      " [1111 2222 3333]\n",
      " [   7    8    9]\n",
      " [  77   88   99]\n",
      " [ 777  888  999]\n",
      " [7777 8888 9999]]\n"
     ]
    }
   ],
   "source": [
    "a = np.array([[1,2,3],[11,22,33],[111,222,333],[1111,2222,3333]])\n",
    "\n",
    "b = np.array([[7,8,9],[77,88,99],[777,888,999],[7777,8888,9999]])\n",
    "\n",
    "print(\"\\nhstack =\\n\", np.hstack((a,b)))\n",
    "\n",
    "print(\"\\n======next print======\")\n",
    "\n",
    "print(\"\\nvstack =\\n\", np.vstack((a,b)))"
   ]
  },
  {
   "cell_type": "code",
   "execution_count": 19,
   "id": "9d2e7706",
   "metadata": {},
   "outputs": [
    {
     "name": "stdout",
     "output_type": "stream",
     "text": [
      "\n",
      "hstack =\n",
      " [[ 1  8]\n",
      " [ 2  9]\n",
      " [ 3 10]]\n",
      "\n",
      "======next print======\n",
      "\n",
      "vstack =\n",
      " [[ 1]\n",
      " [ 2]\n",
      " [ 3]\n",
      " [ 8]\n",
      " [ 9]\n",
      " [10]]\n"
     ]
    }
   ],
   "source": [
    "a = np.array([[1],[2],[3]])\n",
    "\n",
    "b = np.array([[8],[9],[10]])\n",
    "\n",
    "print(\"\\nhstack =\\n\", np.hstack((a,b)))\n",
    "\n",
    "print(\"\\n======next print======\")\n",
    "\n",
    "print(\"\\nvstack =\\n\", np.vstack((a,b)))"
   ]
  },
  {
   "cell_type": "code",
   "execution_count": 20,
   "id": "3241c409",
   "metadata": {},
   "outputs": [
    {
     "name": "stdout",
     "output_type": "stream",
     "text": [
      "\n",
      "hstack =\n",
      " [[1 2 5 6]\n",
      " [3 4 7 8]]\n",
      "\n",
      "======next print======\n",
      "\n",
      "vstack =\n",
      " [[1 2]\n",
      " [3 4]\n",
      " [5 6]\n",
      " [7 8]]\n"
     ]
    }
   ],
   "source": [
    "a = np.array([[1,2],[3,4]])\n",
    "\n",
    "b = np.array([[5,6],[7,8]])\n",
    "\n",
    "print(\"\\nhstack =\\n\", np.hstack((a,b)))\n",
    "\n",
    "print(\"\\n======next print======\")\n",
    "\n",
    "print(\"\\nvstack =\\n\", np.vstack((a,b)))"
   ]
  },
  {
   "cell_type": "code",
   "execution_count": 21,
   "id": "e34eb47e",
   "metadata": {},
   "outputs": [
    {
     "data": {
      "text/plain": [
       "array([[1, 2],\n",
       "       [3, 4],\n",
       "       [5, 6]])"
      ]
     },
     "execution_count": 21,
     "metadata": {},
     "output_type": "execute_result"
    }
   ],
   "source": [
    "import numpy as np\n",
    "a = np.array([[1, 2], [3, 4]])\n",
    "b = np.array([[5, 6]])\n",
    "np.concatenate((a, b), axis=0)"
   ]
  },
  {
   "cell_type": "code",
   "execution_count": 22,
   "id": "227316be",
   "metadata": {},
   "outputs": [
    {
     "data": {
      "text/plain": [
       "array([[1, 2],\n",
       "       [3, 4],\n",
       "       [5, 6]])"
      ]
     },
     "execution_count": 22,
     "metadata": {},
     "output_type": "execute_result"
    }
   ],
   "source": [
    "np.vstack((a,b))"
   ]
  },
  {
   "cell_type": "code",
   "execution_count": 23,
   "id": "7fbe405f",
   "metadata": {},
   "outputs": [
    {
     "ename": "ValueError",
     "evalue": "all the input array dimensions for the concatenation axis must match exactly, but along dimension 0, the array at index 0 has size 2 and the array at index 1 has size 1",
     "output_type": "error",
     "traceback": [
      "\u001b[1;31m---------------------------------------------------------------------------\u001b[0m",
      "\u001b[1;31mValueError\u001b[0m                                Traceback (most recent call last)",
      "\u001b[1;32m<ipython-input-23-ab47451b2341>\u001b[0m in \u001b[0;36m<module>\u001b[1;34m\u001b[0m\n\u001b[1;32m----> 1\u001b[1;33m \u001b[0mnp\u001b[0m\u001b[1;33m.\u001b[0m\u001b[0mconcatenate\u001b[0m\u001b[1;33m(\u001b[0m\u001b[1;33m(\u001b[0m\u001b[0ma\u001b[0m\u001b[1;33m,\u001b[0m \u001b[0mb\u001b[0m\u001b[1;33m)\u001b[0m\u001b[1;33m,\u001b[0m \u001b[0maxis\u001b[0m\u001b[1;33m=\u001b[0m\u001b[1;36m1\u001b[0m\u001b[1;33m)\u001b[0m\u001b[1;33m\u001b[0m\u001b[1;33m\u001b[0m\u001b[0m\n\u001b[0m",
      "\u001b[1;32m<__array_function__ internals>\u001b[0m in \u001b[0;36mconcatenate\u001b[1;34m(*args, **kwargs)\u001b[0m\n",
      "\u001b[1;31mValueError\u001b[0m: all the input array dimensions for the concatenation axis must match exactly, but along dimension 0, the array at index 0 has size 2 and the array at index 1 has size 1"
     ]
    }
   ],
   "source": [
    "np.concatenate((a, b), axis=1)"
   ]
  },
  {
   "cell_type": "code",
   "execution_count": 24,
   "id": "68378f78",
   "metadata": {},
   "outputs": [
    {
     "data": {
      "text/plain": [
       "array([[1, 2, 5],\n",
       "       [3, 4, 6]])"
      ]
     },
     "execution_count": 24,
     "metadata": {},
     "output_type": "execute_result"
    }
   ],
   "source": [
    "np.concatenate((a, b.T), axis=1)"
   ]
  },
  {
   "cell_type": "code",
   "execution_count": 25,
   "id": "ef9845ae",
   "metadata": {},
   "outputs": [
    {
     "name": "stdout",
     "output_type": "stream",
     "text": [
      "vstack= [[1 2]\n",
      " [3 4]\n",
      " [5 6]]\n",
      "hstack= [[1 2 5 6]\n",
      " [3 4 7 8]]\n"
     ]
    }
   ],
   "source": [
    "import numpy as np\n",
    "a = np.array([[1, 2], [3, 4]])\n",
    "b = np.array([5, 6])\n",
    "bb= np.array([[5, 6],[7,8]])\n",
    "cc=b.T\n",
    "\n",
    "print(\"vstack=\",np.vstack((a,cc)))\n",
    "\n",
    "print(\"hstack=\",np.hstack((a,bb)))"
   ]
  },
  {
   "cell_type": "code",
   "execution_count": 26,
   "id": "784c67ed",
   "metadata": {},
   "outputs": [
    {
     "name": "stdout",
     "output_type": "stream",
     "text": [
      "[1 2 3]\n",
      "[7 8 9]\n",
      "vstack\n",
      "\n",
      "[[1 2 3]\n",
      " [7 8 9]]\n",
      "concatenate\n",
      "\n",
      "[[1 2 3]\n",
      " [7 8 9]]\n",
      "stack\n",
      "\n",
      "[[1 7]\n",
      " [2 8]\n",
      " [3 9]]\n",
      "concatenate\n",
      "\n",
      "[[1 2 3 7 8 9]]\n",
      "stack\n",
      "\n",
      "[[1 2 3]\n",
      " [7 8 9]]\n",
      "concatenate\n",
      "\n",
      "[[1 2 3]\n",
      " [7 8 9]]\n"
     ]
    }
   ],
   "source": [
    "a = np.array((1,2,3))\n",
    "b = np.array((7,8,9))\n",
    "print(a)\n",
    "print(b)\n",
    "\n",
    "print(\"vstack\\n\")\n",
    "print(np.vstack((a,b)))\n",
    "print(\"concatenate\\n\")\n",
    "print(np.concatenate([a.reshape(1,3),b.reshape(1,3)]))\n",
    "print(\"stack\\n\")\n",
    "print(np.stack((a,b),axis=1))\n",
    "print(\"concatenate\\n\")\n",
    "print(np.concatenate((a.reshape(1,3),b.reshape(1,3)),axis = 1))\n",
    "print(\"stack\\n\")\n",
    "print(np.stack((a,b),axis=0))\n",
    "print(\"concatenate\\n\")\n",
    "print(np.concatenate((a.reshape(1,3),b.reshape(1,3)),axis = 0))"
   ]
  },
  {
   "cell_type": "code",
   "execution_count": null,
   "id": "2afa2a1f",
   "metadata": {},
   "outputs": [],
   "source": []
  }
 ],
 "metadata": {
  "kernelspec": {
   "display_name": "Python 3",
   "language": "python",
   "name": "python3"
  },
  "language_info": {
   "codemirror_mode": {
    "name": "ipython",
    "version": 3
   },
   "file_extension": ".py",
   "mimetype": "text/x-python",
   "name": "python",
   "nbconvert_exporter": "python",
   "pygments_lexer": "ipython3",
   "version": "3.8.8"
  }
 },
 "nbformat": 4,
 "nbformat_minor": 5
}
