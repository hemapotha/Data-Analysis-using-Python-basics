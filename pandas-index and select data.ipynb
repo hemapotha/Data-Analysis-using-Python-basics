{
 "cells": [
  {
   "cell_type": "code",
   "execution_count": 1,
   "id": "687cf7d8",
   "metadata": {},
   "outputs": [
    {
     "name": "stdout",
     "output_type": "stream",
     "text": [
      "a    1.956276\n",
      "b   -0.538051\n",
      "c    0.589604\n",
      "d    0.925350\n",
      "e   -1.578296\n",
      "f   -0.959304\n",
      "g   -0.205606\n",
      "h   -0.021633\n",
      "Name: A, dtype: float64\n"
     ]
    }
   ],
   "source": [
    "#import the pandas library and aliasing as pd\n",
    "import pandas as pd\n",
    "import numpy as np\n",
    "\n",
    "df = pd.DataFrame(np.random.randn(8, 4),\n",
    "\n",
    "index = ['a','b','c','d','e','f','g','h'], columns = ['A', 'B', 'C', 'D'])\n",
    "\n",
    "#select all rows for a specific column\n",
    "print (df.loc[:,'A'])"
   ]
  },
  {
   "cell_type": "code",
   "execution_count": 2,
   "id": "ee1d4ff3",
   "metadata": {},
   "outputs": [
    {
     "name": "stdout",
     "output_type": "stream",
     "text": [
      "          A         C\n",
      "a  1.429418  0.247160\n",
      "b -0.024233  2.317924\n",
      "c  0.133521 -0.768014\n",
      "d  0.234073  0.844105\n",
      "e  1.141141 -0.380634\n",
      "f -1.727566 -1.191557\n",
      "g  0.288426 -0.969675\n",
      "h -0.488708  1.749955\n"
     ]
    }
   ],
   "source": [
    "import pandas as pd\n",
    "import numpy as np\n",
    "\n",
    "df = pd.DataFrame(np.random.randn(8, 4),\n",
    "index = ['a','b','c','d','e','f','g','h'], columns = ['A', 'B', 'C', 'D'])\n",
    "\n",
    "# Select all rows for multiple columns, say list[]\n",
    "print (df.loc[:,['A','C']])"
   ]
  },
  {
   "cell_type": "code",
   "execution_count": 3,
   "id": "b86410e5",
   "metadata": {},
   "outputs": [
    {
     "name": "stdout",
     "output_type": "stream",
     "text": [
      "          A         C\n",
      "a  1.351933  1.427473\n",
      "b  2.287624  1.969329\n",
      "f  0.233651 -1.023122\n",
      "h  1.711937 -0.417520\n"
     ]
    }
   ],
   "source": [
    "import pandas as pd\n",
    "import numpy as np\n",
    "\n",
    "df = pd.DataFrame(np.random.randn(8, 4),\n",
    "index = ['a','b','c','d','e','f','g','h'], columns = ['A', 'B', 'C', 'D'])\n",
    "\n",
    "# Select few rows for multiple columns, say list[]\n",
    "print (df.loc[['a','b','f','h'],['A','C']])"
   ]
  },
  {
   "cell_type": "code",
   "execution_count": 4,
   "id": "23d15e20",
   "metadata": {},
   "outputs": [
    {
     "name": "stdout",
     "output_type": "stream",
     "text": [
      "          A         B         C         D\n",
      "a  0.784805  1.066534 -0.304705  1.671219\n",
      "b -0.272544  0.412304  0.557194  0.761647\n",
      "c -0.541223  0.915601  1.969444 -1.543752\n",
      "d -0.830060 -0.961249  0.287461  0.850893\n"
     ]
    }
   ],
   "source": [
    "import pandas as pd\n",
    "import numpy as np\n",
    "\n",
    "df = pd.DataFrame(np.random.randn(8, 4),\n",
    "index = ['a','b','c','d','e','f','g','h'], columns = ['A', 'B', 'C', 'D'])\n",
    "\n",
    "# Select range of rows for all columns\n",
    "print (df.loc['a':'d'])"
   ]
  },
  {
   "cell_type": "code",
   "execution_count": 5,
   "id": "dd6f68ee",
   "metadata": {},
   "outputs": [
    {
     "name": "stdout",
     "output_type": "stream",
     "text": [
      "          A         B         C         D\n",
      "a  0.820440 -0.471356 -1.203126 -1.054625\n",
      "b -0.318012  0.823322 -0.601146 -0.087487\n",
      "c  0.505752  1.403381 -1.896386  0.179521\n",
      "d  0.871130 -1.405575  0.347559 -0.316459\n",
      "e -1.867021 -0.823154  0.398598  0.855940\n",
      "f -0.639306 -1.454433 -1.202104 -1.152707\n",
      "g  1.548342  0.616377 -1.093804 -0.852677\n",
      "h -1.614830 -0.048928 -0.068414 -1.255138\n",
      "A     True\n",
      "B    False\n",
      "C    False\n",
      "D    False\n",
      "Name: a, dtype: bool\n"
     ]
    }
   ],
   "source": [
    "import pandas as pd\n",
    "import numpy as np\n",
    "\n",
    "df = pd.DataFrame(np.random.randn(8, 4),\n",
    "index = ['a','b','c','d','e','f','g','h'], columns = ['A', 'B', 'C', 'D'])\n",
    "print(df)\n",
    "# for getting values with a boolean array\n",
    "print (df.loc['a']>0)"
   ]
  },
  {
   "cell_type": "code",
   "execution_count": 6,
   "id": "8c19ce76",
   "metadata": {},
   "outputs": [
    {
     "name": "stdout",
     "output_type": "stream",
     "text": [
      "          A         B         C         D\n",
      "0  0.300049 -1.003547 -0.484223  1.512205\n",
      "1 -2.617933 -0.467270  1.337691  0.181914\n",
      "2  0.809803  0.711191  0.084845  1.500249\n",
      "3 -0.351140  0.588715  0.163054  0.703672\n",
      "4  0.012572  0.202713 -1.146781 -0.067342\n",
      "5 -0.779389  0.084280 -0.640293 -0.049671\n",
      "6  0.330617  0.494163 -2.097320 -0.395895\n",
      "7 -0.684604  0.322857 -0.708521  0.821189\n",
      "          A         B         C         D\n",
      "0  0.300049 -1.003547 -0.484223  1.512205\n",
      "1 -2.617933 -0.467270  1.337691  0.181914\n",
      "2  0.809803  0.711191  0.084845  1.500249\n",
      "3 -0.351140  0.588715  0.163054  0.703672\n"
     ]
    }
   ],
   "source": [
    "# import the pandas library and aliasing as pd\n",
    "import pandas as pd\n",
    "import numpy as np\n",
    "\n",
    "df = pd.DataFrame(np.random.randn(8, 4), columns = ['A', 'B', 'C', 'D'])\n",
    "print(df)\n",
    "# select all rows for a specific column\n",
    "print (df.iloc[:4])"
   ]
  },
  {
   "cell_type": "code",
   "execution_count": 7,
   "id": "b0aac3c1",
   "metadata": {},
   "outputs": [
    {
     "name": "stdout",
     "output_type": "stream",
     "text": [
      "          A         B         C         D\n",
      "0 -1.899913 -1.405160 -0.977186  1.371207\n",
      "1  0.953834 -1.568598 -0.145081 -0.123297\n",
      "2 -2.052409  0.097515  0.239040  0.375866\n",
      "3 -1.250857 -0.287440  0.388655  0.243711\n",
      "4  0.081355 -0.666263  1.875956  0.528918\n",
      "5 -0.162817  0.474546  1.133859  0.585190\n",
      "6  1.623127  0.202129 -1.275214  0.821735\n",
      "7  1.844026  2.129880  0.409604 -0.961895\n",
      "          A         B         C         D\n",
      "0 -1.899913 -1.405160 -0.977186  1.371207\n",
      "1  0.953834 -1.568598 -0.145081 -0.123297\n",
      "2 -2.052409  0.097515  0.239040  0.375866\n",
      "3 -1.250857 -0.287440  0.388655  0.243711\n",
      "          C         D\n",
      "1 -0.145081 -0.123297\n",
      "2  0.239040  0.375866\n",
      "3  0.388655  0.243711\n",
      "4  1.875956  0.528918\n"
     ]
    }
   ],
   "source": [
    "import pandas as pd\n",
    "import numpy as np\n",
    "\n",
    "df = pd.DataFrame(np.random.randn(8, 4), columns = ['A', 'B', 'C', 'D'])\n",
    "print(df)\n",
    "# Integer slicing\n",
    "print (df.iloc[:4])\n",
    "print (df.iloc[1:5, 2:4])"
   ]
  },
  {
   "cell_type": "code",
   "execution_count": 8,
   "id": "38f4c261",
   "metadata": {},
   "outputs": [
    {
     "name": "stdout",
     "output_type": "stream",
     "text": [
      "          A         B         C         D\n",
      "0  0.828398 -1.192486 -2.314847 -1.336437\n",
      "1 -0.464146  0.025942 -0.495447  1.179053\n",
      "2  0.148113 -0.664140  0.273262  0.299831\n",
      "3 -0.346828 -0.141682  3.349217 -0.045705\n",
      "4 -0.806531  1.198981  0.542134  1.494755\n",
      "5 -1.769584 -1.115816 -1.383431  1.230802\n",
      "6 -0.586803 -0.600450 -0.775338 -0.698947\n",
      "7  1.289588  0.588607 -2.007320  0.901270\n",
      "          B         D\n",
      "1  0.025942  1.179053\n",
      "3 -0.141682 -0.045705\n",
      "5 -1.115816  1.230802\n",
      "          A         B         C         D\n",
      "1 -0.464146  0.025942 -0.495447  1.179053\n",
      "2  0.148113 -0.664140  0.273262  0.299831\n",
      "          B         C\n",
      "0 -1.192486 -2.314847\n",
      "1  0.025942 -0.495447\n",
      "2 -0.664140  0.273262\n",
      "3 -0.141682  3.349217\n",
      "4  1.198981  0.542134\n",
      "5 -1.115816 -1.383431\n",
      "6 -0.600450 -0.775338\n",
      "7  0.588607 -2.007320\n"
     ]
    }
   ],
   "source": [
    "import pandas as pd\n",
    "import numpy as np\n",
    "\n",
    "df = pd.DataFrame(np.random.randn(8, 4), columns = ['A', 'B', 'C', 'D'])\n",
    "print(df)\n",
    "# Slicing through list of values\n",
    "print (df.iloc[[1, 3, 5], [1, 3]])\n",
    "print (df.iloc[1:3, :])\n",
    "print (df.iloc[:,1:3])"
   ]
  }
 ],
 "metadata": {
  "kernelspec": {
   "display_name": "Python 3",
   "language": "python",
   "name": "python3"
  },
  "language_info": {
   "codemirror_mode": {
    "name": "ipython",
    "version": 3
   },
   "file_extension": ".py",
   "mimetype": "text/x-python",
   "name": "python",
   "nbconvert_exporter": "python",
   "pygments_lexer": "ipython3",
   "version": "3.8.8"
  }
 },
 "nbformat": 4,
 "nbformat_minor": 5
}
